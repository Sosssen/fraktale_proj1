{
 "cells": [
  {
   "attachments": {},
   "cell_type": "markdown",
   "metadata": {},
   "source": [
    "# Drzewo binarne z losowym kątem odchylenia gałęzi\n",
    "\n",
    "W tym przypadku do fraktala zostało wprowadzone trochę losowości. W związku z tym, każde wywołanie kodu zwróci inny fraktal. Losowość fraktala polega na generowaniu różnych kątów odchylenia gałęzi od osi \"gałęzi-rodzica\".\n",
    "\n",
    "Fraktal ten przypomina, bardziej niż zwykłe drzewo binarne, rzeczywiste drzewa w przyrodzie, ponieważ w nich też istnieje element losowości.\n",
    "\n",
    "## Własciwości\n",
    "\n",
    "- **Samopodobieństwo**: Każda gałąź drzewa przypomina pomniejszoną kopię całego drzewa.\n",
    "- **Losowość**: Za każdym razem generowany jest inny fraktal."
   ]
  },
  {
   "cell_type": "code",
   "execution_count": null,
   "id": "d961bc8b",
   "metadata": {},
   "outputs": [],
   "source": [
    "import matplotlib.pyplot as plt\n",
    "import random\n",
    "import math\n",
    "\n",
    "\n",
    "def draw_tree(ax, x, y, angle, length, level):\n",
    "# x i y to współrzędne początkowego punktu gałęzi.\n",
    "# angle to kąt, pod którym gałąź jest rysowana.\n",
    "# length to długość gałęzi.\n",
    "# level to głębokość rekurencji, która decyduje o ilości poziomów drzewa.\n",
    "\n",
    "    if level == 0:\n",
    "        return\n",
    "    else:\n",
    "        x_new = x + length * math.cos(math.radians(angle))\n",
    "        y_new = y + length * math.sin(math.radians(angle))\n",
    "        ax.plot([x, x_new], [y, y_new], 'k-', lw=1)\n",
    "        \n",
    "        # generujemy dwa losowe kąty - od osi \"gałęzi-rodzica\" odchylamy pierwszą gałąź o losowy kąt w lewo, a drugą w prawo\n",
    "        angle1 = angle - random.randint(0, 90)\n",
    "        angle2 = angle + random.randint(0, 90)\n",
    "        draw_tree(ax, x_new, y_new, angle1, length * 0.6, level-1)\n",
    "        draw_tree(ax, x_new, y_new, angle2, length * 0.6, level-1)\n",
    "\n",
    "fig, ax = plt.subplots()\n",
    "ax.axis('equal')\n",
    "ax.axis('off')\n",
    "draw_tree(ax, 0, 0, 90, 5, 10)\n",
    "\n",
    "plt.show()\n"
   ]
  }
 ],
 "metadata": {
  "kernelspec": {
   "display_name": "Python 3 (ipykernel)",
   "language": "python",
   "name": "python3"
  },
  "language_info": {
   "codemirror_mode": {
    "name": "ipython",
    "version": 3
   },
   "file_extension": ".py",
   "mimetype": "text/x-python",
   "name": "python",
   "nbconvert_exporter": "python",
   "pygments_lexer": "ipython3",
   "version": "3.11.3"
  }
 },
 "nbformat": 4,
 "nbformat_minor": 5
}
