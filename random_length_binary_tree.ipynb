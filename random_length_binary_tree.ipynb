{
 "cells": [
  {
   "attachments": {},
   "cell_type": "markdown",
   "id": "f7e5400d",
   "metadata": {},
   "source": [
    "# Drzewo binarne z losową długością krawędzi\n",
    "\n",
    "Ten fraktal również jest fraktalem z elementem losowości. Tym razem jest to długość krawędzi, która nie jest przemnożeniem długości \"gałęzi-rodzica\" o stałą wartość, tylko o losową (z pewnego zakresu).\n",
    "\n",
    "Tak jak w przypadku poprzedniego fraktala z elementem losowości, ten również bardziej przypomina naturalne drzewa występujące w przyrodzie.\n",
    "\n",
    "## Właściwości\n",
    "\n",
    "- **Samopodobieństwo**: Każda gałąź drzewa przypomina pomniejszoną kopię całego drzewa.\n",
    "- **Losowość**: Za każdym razem generowany jest inny fraktal."
   ]
  },
  {
   "cell_type": "code",
   "execution_count": null,
   "id": "d961bc8b",
   "metadata": {},
   "outputs": [],
   "source": [
    "import matplotlib.pyplot as plt\n",
    "import random\n",
    "import math\n",
    "\n",
    "\n",
    "def draw_tree(ax, x, y, angle, length, level):\n",
    "# x i y to współrzędne początkowego punktu gałęzi.\n",
    "# angle to kąt, pod którym gałąź jest rysowana.\n",
    "# length to długość gałęzi.\n",
    "# level to głębokość rekurencji, która decyduje o ilości poziomów drzewa.\n",
    "\n",
    "    if level == 0:\n",
    "        return\n",
    "    else:\n",
    "        x_new = x + length * math.cos(math.radians(angle))\n",
    "        y_new = y + length * math.sin(math.radians(angle))\n",
    "        ax.plot([x, x_new], [y, y_new], 'k-', lw=1)\n",
    "        \n",
    "        # generujemy dwie losowe długości, dla dwóch nowych krawędzi - z przedziału [0.4*length, 0.8*length]\n",
    "        length1 = length * random.uniform(0.4,0.8)\n",
    "        length2 = length * random.uniform(0.4,0.8)\n",
    "        draw_tree(ax, x_new, y_new, angle - 45, length1, level - 1)\n",
    "        draw_tree(ax, x_new, y_new, angle + 45, length2, level - 1)\n",
    "\n",
    "fig, ax = plt.subplots()\n",
    "ax.axis('equal')\n",
    "ax.axis('off')\n",
    "draw_tree(ax, 0, 0, 90, 5, 10)\n",
    "\n",
    "plt.show()\n"
   ]
  }
 ],
 "metadata": {
  "kernelspec": {
   "display_name": "Python 3 (ipykernel)",
   "language": "python",
   "name": "python3"
  },
  "language_info": {
   "codemirror_mode": {
    "name": "ipython",
    "version": 3
   },
   "file_extension": ".py",
   "mimetype": "text/x-python",
   "name": "python",
   "nbconvert_exporter": "python",
   "pygments_lexer": "ipython3",
   "version": "3.11.3"
  }
 },
 "nbformat": 4,
 "nbformat_minor": 5
}
