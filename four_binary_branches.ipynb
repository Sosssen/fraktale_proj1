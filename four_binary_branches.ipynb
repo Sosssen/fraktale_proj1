{
 "cells": [
  {
   "cell_type": "markdown",
   "id": "f2327a8d",
   "metadata": {},
   "source": [
    "# Fraktal z czterema binarnymi rozgałęzieniami\n",
    "\n",
    "Fraktal ten tak samo jak drzewo binarne rozdziela każdą gałąź na dwie różne, jednak w tym wypadku robi to czterokrotnie, przy każdej iteracji zwiększając kąt o 90 stopni. Zatem binarne rozgałęzienia wychodzą w 4 różne strony.\n",
    "\n",
    "Przez to, że kąt odchylenia gałęzi drzewa binarnego jest równy 45 stopni, każda kolejna iteracja, która rysuje dwa rozgałęzienia zwiększone o kąt 90 stopni nadpisze poprzednio naysowaną gałąź. Więc koniec końców na rysunku widzimy tylko jedno rozgałęzienie w każdą z czterech stron. Aby zobaczyć oba należy zmienić wartość odchylenia gałęzi drzewa binarnego. Jednak przy stopniu rekurencji większej niż 4, fraktal będzie mało czytelny. \n",
    "\n",
    "## Właściwości\n",
    "\n",
    "- **Samopodobieństwo**: Każda gałąź drzewa jest mniejszą kopią całego drzewa.\n",
    "- **Rekurencyjność**: Struktura drzewa powtarza się na każdym poziomie rekurencji, tworząc coraz to mniejsze kopie samego siebie."
   ]
  },
  {
   "cell_type": "code",
   "execution_count": null,
   "id": "f49997f0",
   "metadata": {},
   "outputs": [],
   "source": [
    "import matplotlib.pyplot as plt\n",
    "import math\n",
    "\n",
    "def draw_tree(ax, x, y, angle, length, level):\n",
    "    if level == 0:\n",
    "        return\n",
    "    else:\n",
    "      # Rozgałęziamy w cztery różne prostopadłe do siebie strony\n",
    "      for i in range(4):\n",
    "            angle = ((angle + 360 + 90) % 360);\n",
    "            x_new = x + length * math.cos(math.radians(angle))\n",
    "            y_new = y + length * math.sin(math.radians(angle))\n",
    "            ax.plot([x, x_new], [y, y_new], 'k-', lw=1)\n",
    "        \n",
    "            \n",
    "            draw_tree(ax, x_new, y_new, angle - 45, length * 0.6, level - 1)\n",
    "            draw_tree(ax, x_new, y_new, angle + 45, length * 0.6, level - 1)   \n",
    "            \n",
    "fig, ax = plt.subplots()\n",
    "ax.axis('equal')\n",
    "ax.axis('off')\n",
    "\n",
    "# Można tu wpisać różne kąty >= -360\n",
    "draw_tree(ax, 0, 0, 90, 5, 5)\n",
    "\n",
    "plt.show()"
   ]
  },
  {
   "cell_type": "code",
   "execution_count": null,
   "id": "254dcecf",
   "metadata": {},
   "outputs": [],
   "source": []
  }
 ],
 "metadata": {
  "kernelspec": {
   "display_name": "Python 3 (ipykernel)",
   "language": "python",
   "name": "python3"
  },
  "language_info": {
   "codemirror_mode": {
    "name": "ipython",
    "version": 3
   },
   "file_extension": ".py",
   "mimetype": "text/x-python",
   "name": "python",
   "nbconvert_exporter": "python",
   "pygments_lexer": "ipython3",
   "version": "3.10.9"
  }
 },
 "nbformat": 4,
 "nbformat_minor": 5
}
