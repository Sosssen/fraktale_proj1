{
 "cells": [
  {
   "attachments": {},
   "cell_type": "markdown",
   "id": "00a946ef",
   "metadata": {},
   "source": [
    "# Fraktal drzewa trójkowego\n",
    "\n",
    "Fraktal ten jest bardzo podobny do drzewa binarnego, jedyną różnicą jest to, że każdą gałąź rozdzielamy na trzy, zamiast na dwie.\n",
    "\n",
    "## Właściwości\n",
    "\n",
    "- **Samopodobieństwo**: Każda gałąź drzewa jest mniejszą kopią całego drzewa.\n",
    "- **Rekurencyjność**: Struktura drzewa powtarza się na każdym poziomie rekurencji, tworząc coraz to mniejsze kopie samego siebie."
   ]
  },
  {
   "cell_type": "code",
   "execution_count": null,
   "id": "d961bc8b",
   "metadata": {},
   "outputs": [],
   "source": [
    "import matplotlib.pyplot as plt\n",
    "import math\n",
    "\n",
    "\n",
    "def draw_tree(ax, x, y, angle, length, level):\n",
    "# x i y to współrzędne początkowego punktu gałęzi.\n",
    "# angle to kąt, pod którym gałąź jest rysowana.\n",
    "# length to długość gałęzi.\n",
    "# level to głębokość rekurencji, która decyduje o ilości poziomów drzewa.\n",
    "\n",
    "    if level == 0:\n",
    "        return\n",
    "    else:\n",
    "        x_new = x + length * math.cos(math.radians(angle))\n",
    "        y_new = y + length * math.sin(math.radians(angle))\n",
    "        ax.plot([x, x_new], [y, y_new], 'k-', lw=1)\n",
    "        \n",
    "        # tworzymy trzy różne gałęzie\n",
    "        draw_tree(ax, x_new, y_new, angle - 60, length * 0.6, level - 1)\n",
    "        draw_tree(ax, x_new, y_new, angle, length * 0.6, level - 1)\n",
    "        draw_tree(ax, x_new, y_new, angle + 60, length * 0.6, level - 1)\n",
    "\n",
    "fig, ax = plt.subplots()\n",
    "ax.axis('equal')\n",
    "ax.axis('off')\n",
    "draw_tree(ax, 0, 0, 90, 5, 8)\n",
    "\n",
    "plt.show()\n"
   ]
  }
 ],
 "metadata": {
  "kernelspec": {
   "display_name": "Python 3 (ipykernel)",
   "language": "python",
   "name": "python3"
  },
  "language_info": {
   "codemirror_mode": {
    "name": "ipython",
    "version": 3
   },
   "file_extension": ".py",
   "mimetype": "text/x-python",
   "name": "python",
   "nbconvert_exporter": "python",
   "pygments_lexer": "ipython3",
   "version": "3.11.3"
  }
 },
 "nbformat": 4,
 "nbformat_minor": 5
}
