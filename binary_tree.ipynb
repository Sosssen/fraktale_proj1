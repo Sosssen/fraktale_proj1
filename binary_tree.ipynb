{
 "cells": [
  {
   "attachments": {},
   "cell_type": "markdown",
   "id": "0927334a",
   "metadata": {},
   "source": [
    "# Fraktal Drzewa Binarnego\n",
    "\n",
    "Fraktal drzewa binarnego jest przykładem fraktala, który można generować, używając rekurencyjnej metody. Drzewo binarne jest drzewem, w którym każdy węzeł ma co najwyżej dwa potomków, często określane jako lewe i prawe poddrzewo.\n",
    "\n",
    "Podstawowy algorytm do generowania fraktalu drzewa binarnego jest dość prosty i opiera się na rekurencji. Zaczynamy od jednej linii (korzenia drzewa), a następnie na każdym etapie rekurencji dodajemy dwie nowe linie, które są potomkami poprzedniej linii, tworząc w ten sposób \"gałęzie\" drzewa.\n",
    "\n",
    "### Algorytm Generowania\n",
    "\n",
    "1. **Inicjalizacja**: Rysujemy początkową linię (korzeń drzewa) o określonej długości, zaczynając od punktu \\((x, y)\\) i rysując ją pod określonym kątem względem poziomu (np. 90 stopni, aby zacząć od pionowej linii).\n",
    "\n",
    "2. **Rekurencja**: Dla każdej linii, która została narysowana:\n",
    "   - Rysujemy dwie nowe linie, które są \"potomkami\" tej linii.\n",
    "   - Każda nowa linia zaczyna się w punkcie końcowym poprzedniej linii.\n",
    "   - Nowe linie są rysowane pod określonymi kątami względem poprzedniej linii (np. 45 stopni w lewo i w prawo).\n",
    "   - Długość nowych linii jest pewnym ułamkiem długości poprzedniej linii (np. 0.6).\n",
    "   - Powtarzamy ten krok dla każdej nowej linii, zmniejszając głębokość rekurencji o 1, aż głębokość osiągnie 0.\n",
    "\n",
    "### Równania\n",
    "\n",
    "Nowe współrzędne $(x_{\\text{new}}, y_{\\text{new}})$ punktu końcowego linii mogą być obliczone na podstawie początkowego punktu $(x, y)$, długości linii `length` i kąta `angle` za pomocą następujących równań trygonometrycznych:\n",
    "\n",
    "$$\n",
    "x_{\\text{new}} = x + (\\text{length} \\times \\cos(\\text{angle}))\n",
    "$$\n",
    "\n",
    "$$\n",
    "y_{\\text{new}} = y + (\\text{length} \\times \\sin(\\text{angle}))\n",
    "$$\n",
    "\n",
    "Gdzie:\n",
    "- $(x, y)$ to współrzędne początkowego punktu linii.\n",
    "- `length` to długość linii.\n",
    "- `angle` to kąt, pod którym linia jest rysowana (w radianach lub stopniach, w zależności od funkcji trygonometrycznej używanej w implementacji).\n",
    "\n",
    "## Właściwości\n",
    "\n",
    "- **Samopodobieństwo**: Każda gałąź drzewa jest mniejszą kopią całego drzewa.\n",
    "- **Rekurencyjność**: Struktura drzewa powtarza się na każdym poziomie rekurencji, tworząc coraz to mniejsze kopie samego siebie."
   ]
  },
  {
   "cell_type": "code",
   "execution_count": null,
   "id": "d961bc8b",
   "metadata": {},
   "outputs": [],
   "source": [
    "import matplotlib.pyplot as plt\n",
    "import math\n",
    "\n",
    "\n",
    "def draw_tree(ax, x, y, angle, length, level):\n",
    "# x i y to współrzędne początkowego punktu gałęzi.\n",
    "# angle to kąt, pod którym gałąź jest rysowana.\n",
    "# length to długość gałęzi.\n",
    "# level to głębokość rekurencji, która decyduje o ilości poziomów drzewa.\n",
    "\n",
    "    if level == 0:\n",
    "        return\n",
    "    else:\n",
    "        x_new = x + length * math.cos(math.radians(angle))\n",
    "        y_new = y + length * math.sin(math.radians(angle))\n",
    "        ax.plot([x, x_new], [y, y_new], 'k-', lw=1)\n",
    "        \n",
    "        draw_tree(ax, x_new, y_new, angle - 45, length * 0.6, level-1)\n",
    "        draw_tree(ax, x_new, y_new, angle + 45, length * 0.6, level-1)\n",
    "\n",
    "fig, ax = plt.subplots()\n",
    "ax.axis('equal')\n",
    "ax.axis('off')\n",
    "draw_tree(ax, 0, 0, 90, 5, 10)\n",
    "\n",
    "plt.show()\n"
   ]
  }
 ],
 "metadata": {
  "kernelspec": {
   "display_name": "Python 3 (ipykernel)",
   "language": "python",
   "name": "python3"
  },
  "language_info": {
   "codemirror_mode": {
    "name": "ipython",
    "version": 3
   },
   "file_extension": ".py",
   "mimetype": "text/x-python",
   "name": "python",
   "nbconvert_exporter": "python",
   "pygments_lexer": "ipython3",
   "version": "3.11.3"
  }
 },
 "nbformat": 4,
 "nbformat_minor": 5
}
